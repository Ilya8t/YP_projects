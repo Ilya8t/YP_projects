{
 "cells": [
  {
   "cell_type": "markdown",
   "id": "36c97e37",
   "metadata": {},
   "source": [
    "# Исследование надежности заемщиков"
   ]
  },
  {
   "cell_type": "markdown",
   "id": "17a38b95",
   "metadata": {},
   "source": [
    "**Задача:** \n",
    "- исследовать влияет ли семейное положение и количество детей клиента на факт возврата кредита в срок\n",
    "\n",
    "**Данные:**\n",
    "- статистика о платёжеспособности клиентов банка\n",
    "\n",
    "**Описание данных:**\n",
    "- children — количество детей в семье\n",
    "- days_employed — общий трудовой стаж в днях\n",
    "- dob_years — возраст клиента в годах\n",
    "- education — уровень образования клиента\n",
    "- education_id — идентификатор уровня образования\n",
    "- family_status — семейное положение\n",
    "- family_status_id — идентификатор семейного положения\n",
    "- gender — пол клиента\n",
    "- income_type — тип занятости\n",
    "- debt — имел ли задолженность по возврату кредитов\n",
    "- total_income — ежемесячный доход\n",
    "- purpose — цель получения кредита"
   ]
  },
  {
   "cell_type": "markdown",
   "id": "17a081a7",
   "metadata": {},
   "source": [
    "## 1. Предобработка данных"
   ]
  },
  {
   "cell_type": "markdown",
   "id": "5c744165",
   "metadata": {},
   "source": [
    "### 1.1 Загрузка и изучение общей информации о данных "
   ]
  },
  {
   "cell_type": "code",
   "execution_count": 1,
   "id": "947e8da7",
   "metadata": {},
   "outputs": [],
   "source": [
    "# импорт необходимые библиотеки\n",
    "import pandas as pd"
   ]
  },
  {
   "cell_type": "code",
   "execution_count": 2,
   "id": "05c51f58",
   "metadata": {},
   "outputs": [],
   "source": [
    "# загрузка файла\n",
    "data = pd.read_csv(\"D:\\data_borrows.csv\")"
   ]
  },
  {
   "cell_type": "code",
   "execution_count": 3,
   "id": "6f51e6fe",
   "metadata": {},
   "outputs": [
    {
     "data": {
      "text/html": [
       "<div>\n",
       "<style scoped>\n",
       "    .dataframe tbody tr th:only-of-type {\n",
       "        vertical-align: middle;\n",
       "    }\n",
       "\n",
       "    .dataframe tbody tr th {\n",
       "        vertical-align: top;\n",
       "    }\n",
       "\n",
       "    .dataframe thead th {\n",
       "        text-align: right;\n",
       "    }\n",
       "</style>\n",
       "<table border=\"1\" class=\"dataframe\">\n",
       "  <thead>\n",
       "    <tr style=\"text-align: right;\">\n",
       "      <th></th>\n",
       "      <th>children</th>\n",
       "      <th>days_employed</th>\n",
       "      <th>dob_years</th>\n",
       "      <th>education</th>\n",
       "      <th>education_id</th>\n",
       "      <th>family_status</th>\n",
       "      <th>family_status_id</th>\n",
       "      <th>gender</th>\n",
       "      <th>income_type</th>\n",
       "      <th>debt</th>\n",
       "      <th>total_income</th>\n",
       "      <th>purpose</th>\n",
       "    </tr>\n",
       "  </thead>\n",
       "  <tbody>\n",
       "    <tr>\n",
       "      <th>0</th>\n",
       "      <td>1</td>\n",
       "      <td>-8437.673028</td>\n",
       "      <td>42</td>\n",
       "      <td>высшее</td>\n",
       "      <td>0</td>\n",
       "      <td>женат / замужем</td>\n",
       "      <td>0</td>\n",
       "      <td>F</td>\n",
       "      <td>сотрудник</td>\n",
       "      <td>0</td>\n",
       "      <td>253875.639453</td>\n",
       "      <td>покупка жилья</td>\n",
       "    </tr>\n",
       "  </tbody>\n",
       "</table>\n",
       "</div>"
      ],
      "text/plain": [
       "   children  days_employed  dob_years education  education_id  \\\n",
       "0         1   -8437.673028         42    высшее             0   \n",
       "\n",
       "     family_status  family_status_id gender income_type  debt   total_income  \\\n",
       "0  женат / замужем                 0      F   сотрудник     0  253875.639453   \n",
       "\n",
       "         purpose  \n",
       "0  покупка жилья  "
      ]
     },
     "execution_count": 3,
     "metadata": {},
     "output_type": "execute_result"
    }
   ],
   "source": [
    "# изучение таблицы\n",
    "data.head(1)"
   ]
  },
  {
   "cell_type": "code",
   "execution_count": 4,
   "id": "e049440b",
   "metadata": {},
   "outputs": [
    {
     "name": "stdout",
     "output_type": "stream",
     "text": [
      "<class 'pandas.core.frame.DataFrame'>\n",
      "RangeIndex: 21525 entries, 0 to 21524\n",
      "Data columns (total 12 columns):\n",
      " #   Column            Non-Null Count  Dtype  \n",
      "---  ------            --------------  -----  \n",
      " 0   children          21525 non-null  int64  \n",
      " 1   days_employed     19351 non-null  float64\n",
      " 2   dob_years         21525 non-null  int64  \n",
      " 3   education         21525 non-null  object \n",
      " 4   education_id      21525 non-null  int64  \n",
      " 5   family_status     21525 non-null  object \n",
      " 6   family_status_id  21525 non-null  int64  \n",
      " 7   gender            21525 non-null  object \n",
      " 8   income_type       21525 non-null  object \n",
      " 9   debt              21525 non-null  int64  \n",
      " 10  total_income      19351 non-null  float64\n",
      " 11  purpose           21525 non-null  object \n",
      "dtypes: float64(2), int64(5), object(5)\n",
      "memory usage: 2.0+ MB\n"
     ]
    }
   ],
   "source": [
    "# изучение типов данных и пропущенных значений в столбцах\n",
    "data.info()"
   ]
  },
  {
   "cell_type": "code",
   "execution_count": 5,
   "id": "0412031a",
   "metadata": {},
   "outputs": [
    {
     "data": {
      "text/plain": [
       "days_employed       2174\n",
       "total_income        2174\n",
       "children               0\n",
       "dob_years              0\n",
       "education              0\n",
       "education_id           0\n",
       "family_status          0\n",
       "family_status_id       0\n",
       "gender                 0\n",
       "income_type            0\n",
       "debt                   0\n",
       "purpose                0\n",
       "dtype: int64"
      ]
     },
     "execution_count": 5,
     "metadata": {},
     "output_type": "execute_result"
    }
   ],
   "source": [
    "# изучим пропущенные значения\n",
    "data.isna().sum().sort_values(ascending=False)"
   ]
  },
  {
   "cell_type": "code",
   "execution_count": 6,
   "id": "fa3f15f2",
   "metadata": {},
   "outputs": [
    {
     "data": {
      "text/plain": [
       "54"
      ]
     },
     "execution_count": 6,
     "metadata": {},
     "output_type": "execute_result"
    }
   ],
   "source": [
    "# определение количества дублирующих строк\n",
    "data.duplicated().sum()"
   ]
  },
  {
   "cell_type": "code",
   "execution_count": 7,
   "id": "67e21dc0",
   "metadata": {},
   "outputs": [
    {
     "data": {
      "text/html": [
       "<div>\n",
       "<style scoped>\n",
       "    .dataframe tbody tr th:only-of-type {\n",
       "        vertical-align: middle;\n",
       "    }\n",
       "\n",
       "    .dataframe tbody tr th {\n",
       "        vertical-align: top;\n",
       "    }\n",
       "\n",
       "    .dataframe thead th {\n",
       "        text-align: right;\n",
       "    }\n",
       "</style>\n",
       "<table border=\"1\" class=\"dataframe\">\n",
       "  <thead>\n",
       "    <tr style=\"text-align: right;\">\n",
       "      <th></th>\n",
       "      <th>children</th>\n",
       "      <th>days_employed</th>\n",
       "      <th>dob_years</th>\n",
       "      <th>education_id</th>\n",
       "      <th>family_status_id</th>\n",
       "      <th>debt</th>\n",
       "      <th>total_income</th>\n",
       "    </tr>\n",
       "  </thead>\n",
       "  <tbody>\n",
       "    <tr>\n",
       "      <th>count</th>\n",
       "      <td>21525.000000</td>\n",
       "      <td>19351.000000</td>\n",
       "      <td>21525.000000</td>\n",
       "      <td>21525.000000</td>\n",
       "      <td>21525.000000</td>\n",
       "      <td>21525.000000</td>\n",
       "      <td>1.935100e+04</td>\n",
       "    </tr>\n",
       "    <tr>\n",
       "      <th>mean</th>\n",
       "      <td>0.538908</td>\n",
       "      <td>63046.497661</td>\n",
       "      <td>43.293380</td>\n",
       "      <td>0.817236</td>\n",
       "      <td>0.972544</td>\n",
       "      <td>0.080883</td>\n",
       "      <td>1.674223e+05</td>\n",
       "    </tr>\n",
       "    <tr>\n",
       "      <th>std</th>\n",
       "      <td>1.381587</td>\n",
       "      <td>140827.311974</td>\n",
       "      <td>12.574584</td>\n",
       "      <td>0.548138</td>\n",
       "      <td>1.420324</td>\n",
       "      <td>0.272661</td>\n",
       "      <td>1.029716e+05</td>\n",
       "    </tr>\n",
       "    <tr>\n",
       "      <th>min</th>\n",
       "      <td>-1.000000</td>\n",
       "      <td>-18388.949901</td>\n",
       "      <td>0.000000</td>\n",
       "      <td>0.000000</td>\n",
       "      <td>0.000000</td>\n",
       "      <td>0.000000</td>\n",
       "      <td>2.066726e+04</td>\n",
       "    </tr>\n",
       "    <tr>\n",
       "      <th>25%</th>\n",
       "      <td>0.000000</td>\n",
       "      <td>-2747.423625</td>\n",
       "      <td>33.000000</td>\n",
       "      <td>1.000000</td>\n",
       "      <td>0.000000</td>\n",
       "      <td>0.000000</td>\n",
       "      <td>1.030532e+05</td>\n",
       "    </tr>\n",
       "    <tr>\n",
       "      <th>50%</th>\n",
       "      <td>0.000000</td>\n",
       "      <td>-1203.369529</td>\n",
       "      <td>42.000000</td>\n",
       "      <td>1.000000</td>\n",
       "      <td>0.000000</td>\n",
       "      <td>0.000000</td>\n",
       "      <td>1.450179e+05</td>\n",
       "    </tr>\n",
       "    <tr>\n",
       "      <th>75%</th>\n",
       "      <td>1.000000</td>\n",
       "      <td>-291.095954</td>\n",
       "      <td>53.000000</td>\n",
       "      <td>1.000000</td>\n",
       "      <td>1.000000</td>\n",
       "      <td>0.000000</td>\n",
       "      <td>2.034351e+05</td>\n",
       "    </tr>\n",
       "    <tr>\n",
       "      <th>max</th>\n",
       "      <td>20.000000</td>\n",
       "      <td>401755.400475</td>\n",
       "      <td>75.000000</td>\n",
       "      <td>4.000000</td>\n",
       "      <td>4.000000</td>\n",
       "      <td>1.000000</td>\n",
       "      <td>2.265604e+06</td>\n",
       "    </tr>\n",
       "  </tbody>\n",
       "</table>\n",
       "</div>"
      ],
      "text/plain": [
       "           children  days_employed     dob_years  education_id  \\\n",
       "count  21525.000000   19351.000000  21525.000000  21525.000000   \n",
       "mean       0.538908   63046.497661     43.293380      0.817236   \n",
       "std        1.381587  140827.311974     12.574584      0.548138   \n",
       "min       -1.000000  -18388.949901      0.000000      0.000000   \n",
       "25%        0.000000   -2747.423625     33.000000      1.000000   \n",
       "50%        0.000000   -1203.369529     42.000000      1.000000   \n",
       "75%        1.000000    -291.095954     53.000000      1.000000   \n",
       "max       20.000000  401755.400475     75.000000      4.000000   \n",
       "\n",
       "       family_status_id          debt  total_income  \n",
       "count      21525.000000  21525.000000  1.935100e+04  \n",
       "mean           0.972544      0.080883  1.674223e+05  \n",
       "std            1.420324      0.272661  1.029716e+05  \n",
       "min            0.000000      0.000000  2.066726e+04  \n",
       "25%            0.000000      0.000000  1.030532e+05  \n",
       "50%            0.000000      0.000000  1.450179e+05  \n",
       "75%            1.000000      0.000000  2.034351e+05  \n",
       "max            4.000000      1.000000  2.265604e+06  "
      ]
     },
     "execution_count": 7,
     "metadata": {},
     "output_type": "execute_result"
    }
   ],
   "source": [
    "data.describe()"
   ]
  },
  {
   "cell_type": "markdown",
   "id": "532257a3",
   "metadata": {},
   "source": [
    "**Вывод:**\n",
    "- в таблице есть столбцы, в которых имеются пропущенные значения (days_employed и total_income)\n",
    "- в таблице есть дублированные строки (54)\n",
    "- в таблице есть столбцы, в которых некорректный тип данных (days_employed)\n",
    "- в столбцах с days_employed и children имеются аномалии - отрицательные значения и большие значения"
   ]
  },
  {
   "cell_type": "markdown",
   "id": "854cba04",
   "metadata": {},
   "source": [
    "### 1.2 Работа с пропущенными и аномальными значениями"
   ]
  },
  {
   "cell_type": "markdown",
   "id": "8aee202b",
   "metadata": {},
   "source": [
    "**Столбец total_income**"
   ]
  },
  {
   "cell_type": "markdown",
   "id": "a25b89d8",
   "metadata": {},
   "source": [
    "Столбец total_income — хранит данные о доходах. На сумму дохода сильнее всего влияет тип занятости, поэтому заполнить пропуски в этом столбце нужно медианным значением по каждому типу из столбца income_type."
   ]
  },
  {
   "cell_type": "code",
   "execution_count": 8,
   "id": "238d738a",
   "metadata": {},
   "outputs": [],
   "source": [
    "median_df = data.groupby('income_type')['total_income'].median() \n",
    "\n",
    "for inc_type in data['income_type'].unique():\n",
    "    data.loc[data['income_type'] == inc_type, 'total_income'] = data.loc[data['income_type'] == inc_type, 'total_income']\\\n",
    "    .fillna(median_df[inc_type])"
   ]
  },
  {
   "cell_type": "markdown",
   "id": "6ceed2a0",
   "metadata": {},
   "source": [
    "**Столбец children**"
   ]
  },
  {
   "cell_type": "code",
   "execution_count": 9,
   "id": "563e17bf",
   "metadata": {},
   "outputs": [
    {
     "data": {
      "text/plain": [
       "[-1, 0, 1, 2, 3, 4, 5, 20]"
      ]
     },
     "execution_count": 9,
     "metadata": {},
     "output_type": "execute_result"
    }
   ],
   "source": [
    "# вывод переченя уникальных значений столбца children\n",
    "\n",
    "sorted(data['children'].unique().tolist())"
   ]
  },
  {
   "cell_type": "markdown",
   "id": "214691a0",
   "metadata": {},
   "source": [
    "В столбце children есть два аномальных значения (-1 и 20). Удалим эти строки из таблицы, в которых встречаются такие аномальные значения."
   ]
  },
  {
   "cell_type": "code",
   "execution_count": 10,
   "id": "324f25f4",
   "metadata": {},
   "outputs": [],
   "source": [
    "# удаление строк с аномальными значениями в столбце children\n",
    "\n",
    "data = data[(data['children'] >= 0) & (data['children'] <= 5)]"
   ]
  },
  {
   "cell_type": "code",
   "execution_count": 11,
   "id": "1fc836ed",
   "metadata": {},
   "outputs": [
    {
     "data": {
      "text/plain": [
       "[0, 1, 2, 3, 4, 5]"
      ]
     },
     "execution_count": 11,
     "metadata": {},
     "output_type": "execute_result"
    }
   ],
   "source": [
    "# проверка удаления\n",
    "\n",
    "sorted(data['children'].unique().tolist())"
   ]
  },
  {
   "cell_type": "markdown",
   "id": "31576629",
   "metadata": {},
   "source": [
    "**Столбец days_employed**"
   ]
  },
  {
   "cell_type": "markdown",
   "id": "ef764073",
   "metadata": {},
   "source": [
    "Поскольку отрицательные значения в столбце days_employed - это может быть результат опечатки, то заменим все отрицательные значения положительными"
   ]
  },
  {
   "cell_type": "code",
   "execution_count": 12,
   "id": "b1c22e2f",
   "metadata": {},
   "outputs": [],
   "source": [
    "# замена всех отрицательных значений положительными\n",
    "data['days_employed'] = abs(data['days_employed'])"
   ]
  },
  {
   "cell_type": "markdown",
   "id": "ad4caf67",
   "metadata": {},
   "source": [
    "На сумму трудовой стаж сильнее всего влияет тип занятости, поэтому заполнить пропуски в этом столбце нужно медианным значением по каждому типу из столбца income_type."
   ]
  },
  {
   "cell_type": "code",
   "execution_count": 13,
   "id": "a1abe099",
   "metadata": {},
   "outputs": [],
   "source": [
    "# заполнение пропусков в столбце days_employed медианными значениями по каждому типу занятости income_type\n",
    "\n",
    "median_df = data.groupby('income_type')['days_employed'].median() \n",
    "\n",
    "for inc_type in data['income_type'].unique():\n",
    "    data.loc[data['income_type'] == inc_type, 'days_employed'] = data.loc[data['income_type'] == inc_type, 'days_employed']\\\n",
    "    .fillna(median_df[inc_type])"
   ]
  },
  {
   "cell_type": "code",
   "execution_count": 14,
   "id": "61e886c4",
   "metadata": {},
   "outputs": [
    {
     "data": {
      "text/plain": [
       "income_type\n",
       "безработный        366413.652744\n",
       "пенсионер          365286.622650\n",
       "в декрете            3296.759962\n",
       "госслужащий          2689.137274\n",
       "сотрудник            1572.328285\n",
       "компаньон            1555.947387\n",
       "студент               578.751554\n",
       "предприниматель       520.848083\n",
       "Name: days_employed, dtype: float64"
      ]
     },
     "execution_count": 14,
     "metadata": {},
     "output_type": "execute_result"
    }
   ],
   "source": [
    "# вывод медианного значения трудового стажа в днях для каждого типа занятости\n",
    "\n",
    "data.groupby('income_type')['days_employed'].agg('median').sort_values(ascending=False)"
   ]
  },
  {
   "cell_type": "markdown",
   "id": "4799fcaa",
   "metadata": {},
   "source": [
    "У двух типов (безработные и пенсионеры) - аномально большие значения. Исправить такие значения сложно, поэтому оставим их как есть. Тем более этот столбец не понадобится для исследования."
   ]
  },
  {
   "cell_type": "markdown",
   "id": "609285fb",
   "metadata": {},
   "source": [
    "**Проверка заполнения пропущенных значений**"
   ]
  },
  {
   "cell_type": "code",
   "execution_count": 15,
   "id": "a323adcd",
   "metadata": {},
   "outputs": [
    {
     "data": {
      "text/plain": [
       "children            0\n",
       "days_employed       0\n",
       "dob_years           0\n",
       "education           0\n",
       "education_id        0\n",
       "family_status       0\n",
       "family_status_id    0\n",
       "gender              0\n",
       "income_type         0\n",
       "debt                0\n",
       "total_income        0\n",
       "purpose             0\n",
       "dtype: int64"
      ]
     },
     "execution_count": 15,
     "metadata": {},
     "output_type": "execute_result"
    }
   ],
   "source": [
    "data.isna().sum().sort_values(ascending=False)"
   ]
  },
  {
   "cell_type": "markdown",
   "id": "b99377bf",
   "metadata": {},
   "source": [
    "### 1.3 Работа с типами данных"
   ]
  },
  {
   "cell_type": "code",
   "execution_count": 16,
   "id": "95cbc440",
   "metadata": {},
   "outputs": [],
   "source": [
    "# замена вещественного типа данных в столбце total_income на целочисленный\n",
    "\n",
    "data['total_income'] = data['total_income'].astype('int')"
   ]
  },
  {
   "cell_type": "code",
   "execution_count": 17,
   "id": "f8150a83",
   "metadata": {},
   "outputs": [
    {
     "data": {
      "text/plain": [
       "dtype('int32')"
      ]
     },
     "execution_count": 17,
     "metadata": {},
     "output_type": "execute_result"
    }
   ],
   "source": [
    "# проверка исправления типа данных\n",
    "\n",
    "data['total_income'].dtype"
   ]
  },
  {
   "cell_type": "markdown",
   "id": "96111c1a",
   "metadata": {},
   "source": [
    "### 1.4 Работа с дубликатами"
   ]
  },
  {
   "cell_type": "markdown",
   "id": "f9b93db1",
   "metadata": {},
   "source": [
    "Ранее было выявлено, что в таблице имеются 54 строки-дубликаты, поэтому удалим их."
   ]
  },
  {
   "cell_type": "code",
   "execution_count": 18,
   "id": "0acd1cd1",
   "metadata": {},
   "outputs": [],
   "source": [
    "# удаление строк-дубликатов\n",
    "\n",
    "data = data.drop_duplicates()"
   ]
  },
  {
   "cell_type": "code",
   "execution_count": 19,
   "id": "d226e6dc",
   "metadata": {},
   "outputs": [
    {
     "data": {
      "text/plain": [
       "0"
      ]
     },
     "execution_count": 19,
     "metadata": {},
     "output_type": "execute_result"
    }
   ],
   "source": [
    "# проверка на удаление строк-дубликатов\n",
    "\n",
    "data.duplicated().sum()"
   ]
  },
  {
   "cell_type": "markdown",
   "id": "718ae8cc",
   "metadata": {},
   "source": [
    "**Удалим возможное наличие разных регистров в столбцах со строковыми данными**"
   ]
  },
  {
   "cell_type": "code",
   "execution_count": 20,
   "id": "6fb21998",
   "metadata": {},
   "outputs": [],
   "source": [
    "# создание функцию для приведения к нижнему регистру\n",
    "\n",
    "def lowers(i):\n",
    "    data[i] = data[i].str.lower()"
   ]
  },
  {
   "cell_type": "code",
   "execution_count": 21,
   "id": "be5b7db0",
   "metadata": {},
   "outputs": [],
   "source": [
    "# приведение к нижнему регистру столбцы со строковыми данными с помощью созданной функции\n",
    "\n",
    "lowers('education')\n",
    "lowers('family_status')\n",
    "lowers('purpose')"
   ]
  },
  {
   "cell_type": "markdown",
   "id": "80ab0b9e",
   "metadata": {},
   "source": [
    "### 1.5 Категоризация данных"
   ]
  },
  {
   "cell_type": "markdown",
   "id": "b58efd2a",
   "metadata": {},
   "source": [
    "**Выделение категорий людей в зависимости от уровня дохода**"
   ]
  },
  {
   "cell_type": "markdown",
   "id": "5e461507",
   "metadata": {},
   "source": [
    "Создадим столбец `total_income_category` с категориями:\n",
    "\n",
    "- 0–30000 — `'E'`;\n",
    "- 30001–50000 — `'D'`;\n",
    "- 50001–200000 — `'C'`;\n",
    "- 200001–1000000 — `'B'`;\n",
    "- 1000001 и выше — `'A'`.\n",
    "\n",
    "То есть присвоим каждому заемщику категорию в зависимости от его уровня дохода."
   ]
  },
  {
   "cell_type": "code",
   "execution_count": 22,
   "id": "f481e0e2",
   "metadata": {},
   "outputs": [],
   "source": [
    "# создание функции для категоризации\n",
    "\n",
    "def categorize_income(category):\n",
    "    if 0 <= category <= 30000:\n",
    "        return 'E'\n",
    "    if 30001 <= category <= 50000:\n",
    "        return 'D'\n",
    "    if 50001 <= category <= 200000:\n",
    "        return 'C'\n",
    "    if 200001 <= category <= 1000000:\n",
    "        return 'B'\n",
    "    if 1000001 <= category >= 1000001:\n",
    "        return 'A'"
   ]
  },
  {
   "cell_type": "code",
   "execution_count": 23,
   "id": "68eafc84",
   "metadata": {},
   "outputs": [],
   "source": [
    "# проведение категоризации с помощью созданной функции\n",
    "\n",
    "data['total_income_category'] = data['total_income'].apply(categorize_income)"
   ]
  },
  {
   "cell_type": "code",
   "execution_count": 24,
   "id": "a962bf6c",
   "metadata": {},
   "outputs": [
    {
     "data": {
      "text/html": [
       "<div>\n",
       "<style scoped>\n",
       "    .dataframe tbody tr th:only-of-type {\n",
       "        vertical-align: middle;\n",
       "    }\n",
       "\n",
       "    .dataframe tbody tr th {\n",
       "        vertical-align: top;\n",
       "    }\n",
       "\n",
       "    .dataframe thead th {\n",
       "        text-align: right;\n",
       "    }\n",
       "</style>\n",
       "<table border=\"1\" class=\"dataframe\">\n",
       "  <thead>\n",
       "    <tr style=\"text-align: right;\">\n",
       "      <th></th>\n",
       "      <th>total_income</th>\n",
       "      <th>total_income_category</th>\n",
       "    </tr>\n",
       "  </thead>\n",
       "  <tbody>\n",
       "    <tr>\n",
       "      <th>0</th>\n",
       "      <td>253875</td>\n",
       "      <td>B</td>\n",
       "    </tr>\n",
       "    <tr>\n",
       "      <th>1</th>\n",
       "      <td>112080</td>\n",
       "      <td>C</td>\n",
       "    </tr>\n",
       "  </tbody>\n",
       "</table>\n",
       "</div>"
      ],
      "text/plain": [
       "   total_income total_income_category\n",
       "0        253875                     B\n",
       "1        112080                     C"
      ]
     },
     "execution_count": 24,
     "metadata": {},
     "output_type": "execute_result"
    }
   ],
   "source": [
    "# проверка, что категории созданы корректно\n",
    "\n",
    "data[['total_income','total_income_category']].head(2)"
   ]
  },
  {
   "cell_type": "markdown",
   "id": "f7f7ad35",
   "metadata": {},
   "source": [
    "**Выделение категории людей в зависимости от цели кредита**"
   ]
  },
  {
   "cell_type": "markdown",
   "id": "86bf8489",
   "metadata": {},
   "source": [
    "Определим, на какие цели люди берут кредит, чтобы можно было сделать категоризацию в зависимости от цели кредита"
   ]
  },
  {
   "cell_type": "code",
   "execution_count": 25,
   "id": "f739d53b",
   "metadata": {},
   "outputs": [
    {
     "data": {
      "text/plain": [
       "['автомобили',\n",
       " 'автомобиль',\n",
       " 'высшее образование',\n",
       " 'дополнительное образование',\n",
       " 'жилье',\n",
       " 'заняться высшим образованием',\n",
       " 'заняться образованием',\n",
       " 'на покупку автомобиля',\n",
       " 'на покупку подержанного автомобиля',\n",
       " 'на покупку своего автомобиля',\n",
       " 'на проведение свадьбы',\n",
       " 'недвижимость',\n",
       " 'образование',\n",
       " 'операции с жильем',\n",
       " 'операции с коммерческой недвижимостью',\n",
       " 'операции с недвижимостью',\n",
       " 'операции со своей недвижимостью',\n",
       " 'покупка жилой недвижимости',\n",
       " 'покупка жилья',\n",
       " 'покупка жилья для сдачи',\n",
       " 'покупка жилья для семьи',\n",
       " 'покупка коммерческой недвижимости',\n",
       " 'покупка недвижимости',\n",
       " 'покупка своего жилья',\n",
       " 'получение высшего образования',\n",
       " 'получение дополнительного образования',\n",
       " 'получение образования',\n",
       " 'приобретение автомобиля',\n",
       " 'профильное образование',\n",
       " 'ремонт жилью',\n",
       " 'свадьба',\n",
       " 'свой автомобиль',\n",
       " 'сделка с автомобилем',\n",
       " 'сделка с подержанным автомобилем',\n",
       " 'строительство жилой недвижимости',\n",
       " 'строительство недвижимости',\n",
       " 'строительство собственной недвижимости',\n",
       " 'сыграть свадьбу']"
      ]
     },
     "execution_count": 25,
     "metadata": {},
     "output_type": "execute_result"
    }
   ],
   "source": [
    "sorted(data['purpose'].unique().tolist())"
   ]
  },
  {
   "cell_type": "markdown",
   "id": "89afaee1",
   "metadata": {},
   "source": [
    "Создадим функцию, которая на основании данных из столбца `purpose` сформирует новый столбец `purpose_category`, в который войдут следующие категории:\n",
    "\n",
    "- `'операции с автомобилем'`,\n",
    "- `'операции с недвижимостью'`,\n",
    "- `'проведение свадьбы'`,\n",
    "- `'получение образования'`.\n",
    "\n",
    "Например, если в столбце `purpose` находится подстрока `'на покупку автомобиля'`, то в столбце `purpose_category` должна появиться строка `'операции с автомобилем'`."
   ]
  },
  {
   "cell_type": "code",
   "execution_count": 26,
   "id": "9e5b05ad",
   "metadata": {},
   "outputs": [],
   "source": [
    "# создание функции для категоризации\n",
    "\n",
    "def categorize_purpose(row):\n",
    "    if 'автом' in row:\n",
    "        return 'операции с автомобилем'\n",
    "    if ('жил' in row) or ('недвиж' in row):\n",
    "        return 'операции с недвижимостью'\n",
    "    if 'свадьб'in row:\n",
    "        return 'проведение свадьбы'\n",
    "    if 'образов' in row:\n",
    "        return 'получение образования'"
   ]
  },
  {
   "cell_type": "code",
   "execution_count": 27,
   "id": "dd377a4b",
   "metadata": {},
   "outputs": [],
   "source": [
    "# применение функции \n",
    "\n",
    "data['purpose_category'] = data['purpose'].apply(categorize_purpose)"
   ]
  },
  {
   "cell_type": "code",
   "execution_count": 28,
   "id": "3880822e",
   "metadata": {},
   "outputs": [
    {
     "data": {
      "text/html": [
       "<div>\n",
       "<style scoped>\n",
       "    .dataframe tbody tr th:only-of-type {\n",
       "        vertical-align: middle;\n",
       "    }\n",
       "\n",
       "    .dataframe tbody tr th {\n",
       "        vertical-align: top;\n",
       "    }\n",
       "\n",
       "    .dataframe thead th {\n",
       "        text-align: right;\n",
       "    }\n",
       "</style>\n",
       "<table border=\"1\" class=\"dataframe\">\n",
       "  <thead>\n",
       "    <tr style=\"text-align: right;\">\n",
       "      <th></th>\n",
       "      <th>children</th>\n",
       "      <th>days_employed</th>\n",
       "      <th>dob_years</th>\n",
       "      <th>education</th>\n",
       "      <th>education_id</th>\n",
       "      <th>family_status</th>\n",
       "      <th>family_status_id</th>\n",
       "      <th>gender</th>\n",
       "      <th>income_type</th>\n",
       "      <th>debt</th>\n",
       "      <th>total_income</th>\n",
       "      <th>purpose</th>\n",
       "      <th>total_income_category</th>\n",
       "      <th>purpose_category</th>\n",
       "    </tr>\n",
       "  </thead>\n",
       "  <tbody>\n",
       "    <tr>\n",
       "      <th>0</th>\n",
       "      <td>1</td>\n",
       "      <td>8437.673028</td>\n",
       "      <td>42</td>\n",
       "      <td>высшее</td>\n",
       "      <td>0</td>\n",
       "      <td>женат / замужем</td>\n",
       "      <td>0</td>\n",
       "      <td>F</td>\n",
       "      <td>сотрудник</td>\n",
       "      <td>0</td>\n",
       "      <td>253875</td>\n",
       "      <td>покупка жилья</td>\n",
       "      <td>B</td>\n",
       "      <td>операции с недвижимостью</td>\n",
       "    </tr>\n",
       "    <tr>\n",
       "      <th>1</th>\n",
       "      <td>1</td>\n",
       "      <td>4024.803754</td>\n",
       "      <td>36</td>\n",
       "      <td>среднее</td>\n",
       "      <td>1</td>\n",
       "      <td>женат / замужем</td>\n",
       "      <td>0</td>\n",
       "      <td>F</td>\n",
       "      <td>сотрудник</td>\n",
       "      <td>0</td>\n",
       "      <td>112080</td>\n",
       "      <td>приобретение автомобиля</td>\n",
       "      <td>C</td>\n",
       "      <td>операции с автомобилем</td>\n",
       "    </tr>\n",
       "  </tbody>\n",
       "</table>\n",
       "</div>"
      ],
      "text/plain": [
       "   children  days_employed  dob_years education  education_id  \\\n",
       "0         1    8437.673028         42    высшее             0   \n",
       "1         1    4024.803754         36   среднее             1   \n",
       "\n",
       "     family_status  family_status_id gender income_type  debt  total_income  \\\n",
       "0  женат / замужем                 0      F   сотрудник     0        253875   \n",
       "1  женат / замужем                 0      F   сотрудник     0        112080   \n",
       "\n",
       "                   purpose total_income_category          purpose_category  \n",
       "0            покупка жилья                     B  операции с недвижимостью  \n",
       "1  приобретение автомобиля                     C    операции с автомобилем  "
      ]
     },
     "execution_count": 28,
     "metadata": {},
     "output_type": "execute_result"
    }
   ],
   "source": [
    "# проверка, что категории созданы корректно\n",
    "\n",
    "data.head(2)"
   ]
  },
  {
   "cell_type": "code",
   "execution_count": 29,
   "id": "56f1c6d2",
   "metadata": {},
   "outputs": [
    {
     "data": {
      "text/html": [
       "<div>\n",
       "<style scoped>\n",
       "    .dataframe tbody tr th:only-of-type {\n",
       "        vertical-align: middle;\n",
       "    }\n",
       "\n",
       "    .dataframe tbody tr th {\n",
       "        vertical-align: top;\n",
       "    }\n",
       "\n",
       "    .dataframe thead th {\n",
       "        text-align: right;\n",
       "    }\n",
       "</style>\n",
       "<table border=\"1\" class=\"dataframe\">\n",
       "  <thead>\n",
       "    <tr style=\"text-align: right;\">\n",
       "      <th></th>\n",
       "      <th>purpose</th>\n",
       "      <th>purpose_category</th>\n",
       "    </tr>\n",
       "  </thead>\n",
       "  <tbody>\n",
       "    <tr>\n",
       "      <th>0</th>\n",
       "      <td>покупка жилья</td>\n",
       "      <td>операции с недвижимостью</td>\n",
       "    </tr>\n",
       "    <tr>\n",
       "      <th>1</th>\n",
       "      <td>приобретение автомобиля</td>\n",
       "      <td>операции с автомобилем</td>\n",
       "    </tr>\n",
       "    <tr>\n",
       "      <th>2</th>\n",
       "      <td>покупка жилья</td>\n",
       "      <td>операции с недвижимостью</td>\n",
       "    </tr>\n",
       "    <tr>\n",
       "      <th>3</th>\n",
       "      <td>дополнительное образование</td>\n",
       "      <td>получение образования</td>\n",
       "    </tr>\n",
       "    <tr>\n",
       "      <th>4</th>\n",
       "      <td>сыграть свадьбу</td>\n",
       "      <td>проведение свадьбы</td>\n",
       "    </tr>\n",
       "  </tbody>\n",
       "</table>\n",
       "</div>"
      ],
      "text/plain": [
       "                      purpose          purpose_category\n",
       "0               покупка жилья  операции с недвижимостью\n",
       "1     приобретение автомобиля    операции с автомобилем\n",
       "2               покупка жилья  операции с недвижимостью\n",
       "3  дополнительное образование     получение образования\n",
       "4             сыграть свадьбу        проведение свадьбы"
      ]
     },
     "execution_count": 29,
     "metadata": {},
     "output_type": "execute_result"
    }
   ],
   "source": [
    "# проверка, что категории созданы корректно\n",
    "\n",
    "data[['purpose','purpose_category']].head(5)"
   ]
  },
  {
   "cell_type": "markdown",
   "id": "e84ac163",
   "metadata": {},
   "source": [
    "**Выделение категории людей в зависимости от количества детей**"
   ]
  },
  {
   "cell_type": "code",
   "execution_count": 30,
   "id": "a742c081",
   "metadata": {},
   "outputs": [],
   "source": [
    "# создание функции для категоризации \n",
    "\n",
    "def categorize_children (child):\n",
    "        if child == 0:\n",
    "            return 'Бездетные'\n",
    "        elif 1 <= child <= 2:\n",
    "            return 'Имеют детей от 1 до 2'\n",
    "        elif child >= 3:\n",
    "            return 'Многодетные'"
   ]
  },
  {
   "cell_type": "code",
   "execution_count": 31,
   "id": "6784a8cd",
   "metadata": {},
   "outputs": [],
   "source": [
    "# применение функции\n",
    "\n",
    "data['children_category'] = data['children'].apply(categorize_children)"
   ]
  },
  {
   "cell_type": "code",
   "execution_count": 32,
   "id": "6e4f1f26",
   "metadata": {},
   "outputs": [
    {
     "data": {
      "text/html": [
       "<div>\n",
       "<style scoped>\n",
       "    .dataframe tbody tr th:only-of-type {\n",
       "        vertical-align: middle;\n",
       "    }\n",
       "\n",
       "    .dataframe tbody tr th {\n",
       "        vertical-align: top;\n",
       "    }\n",
       "\n",
       "    .dataframe thead th {\n",
       "        text-align: right;\n",
       "    }\n",
       "</style>\n",
       "<table border=\"1\" class=\"dataframe\">\n",
       "  <thead>\n",
       "    <tr style=\"text-align: right;\">\n",
       "      <th></th>\n",
       "      <th>children</th>\n",
       "      <th>children_category</th>\n",
       "    </tr>\n",
       "  </thead>\n",
       "  <tbody>\n",
       "    <tr>\n",
       "      <th>0</th>\n",
       "      <td>1</td>\n",
       "      <td>Имеют детей от 1 до 2</td>\n",
       "    </tr>\n",
       "    <tr>\n",
       "      <th>1</th>\n",
       "      <td>1</td>\n",
       "      <td>Имеют детей от 1 до 2</td>\n",
       "    </tr>\n",
       "    <tr>\n",
       "      <th>2</th>\n",
       "      <td>0</td>\n",
       "      <td>Бездетные</td>\n",
       "    </tr>\n",
       "    <tr>\n",
       "      <th>3</th>\n",
       "      <td>3</td>\n",
       "      <td>Многодетные</td>\n",
       "    </tr>\n",
       "  </tbody>\n",
       "</table>\n",
       "</div>"
      ],
      "text/plain": [
       "   children      children_category\n",
       "0         1  Имеют детей от 1 до 2\n",
       "1         1  Имеют детей от 1 до 2\n",
       "2         0              Бездетные\n",
       "3         3            Многодетные"
      ]
     },
     "execution_count": 32,
     "metadata": {},
     "output_type": "execute_result"
    }
   ],
   "source": [
    "# проверка, что категории созданы корректно\n",
    "\n",
    "data[['children','children_category']].head(4)"
   ]
  },
  {
   "cell_type": "markdown",
   "id": "5446ab2d",
   "metadata": {},
   "source": [
    "## 2. Исследовательский анализ данных "
   ]
  },
  {
   "cell_type": "markdown",
   "id": "cbffa487",
   "metadata": {},
   "source": [
    "### 2.1 Определение, есть зависимость между количеством детей и возвратом кредита в срок"
   ]
  },
  {
   "cell_type": "code",
   "execution_count": 33,
   "id": "fb6b6f3d",
   "metadata": {},
   "outputs": [
    {
     "data": {
      "text/html": [
       "<div>\n",
       "<style scoped>\n",
       "    .dataframe tbody tr th:only-of-type {\n",
       "        vertical-align: middle;\n",
       "    }\n",
       "\n",
       "    .dataframe tbody tr th {\n",
       "        vertical-align: top;\n",
       "    }\n",
       "\n",
       "    .dataframe thead th {\n",
       "        text-align: right;\n",
       "    }\n",
       "</style>\n",
       "<table border=\"1\" class=\"dataframe\">\n",
       "  <thead>\n",
       "    <tr style=\"text-align: right;\">\n",
       "      <th>debt</th>\n",
       "      <th>total_people</th>\n",
       "      <th>debt</th>\n",
       "      <th>ratio %</th>\n",
       "    </tr>\n",
       "    <tr>\n",
       "      <th>children_category</th>\n",
       "      <th></th>\n",
       "      <th></th>\n",
       "      <th></th>\n",
       "    </tr>\n",
       "  </thead>\n",
       "  <tbody>\n",
       "    <tr>\n",
       "      <th>Имеют детей от 1 до 2</th>\n",
       "      <td>6861</td>\n",
       "      <td>638</td>\n",
       "      <td>9.3</td>\n",
       "    </tr>\n",
       "    <tr>\n",
       "      <th>Многодетные</th>\n",
       "      <td>380</td>\n",
       "      <td>31</td>\n",
       "      <td>8.2</td>\n",
       "    </tr>\n",
       "    <tr>\n",
       "      <th>Бездетные</th>\n",
       "      <td>14107</td>\n",
       "      <td>1063</td>\n",
       "      <td>7.5</td>\n",
       "    </tr>\n",
       "  </tbody>\n",
       "</table>\n",
       "</div>"
      ],
      "text/plain": [
       "debt                   total_people  debt  ratio %\n",
       "children_category                                 \n",
       "Имеют детей от 1 до 2          6861   638      9.3\n",
       "Многодетные                     380    31      8.2\n",
       "Бездетные                     14107  1063      7.5"
      ]
     },
     "execution_count": 33,
     "metadata": {},
     "output_type": "execute_result"
    }
   ],
   "source": [
    "# создание сводной таблицы, где будет отражена информация о проценте должников в зависимости от количества детей\n",
    "\n",
    "children_and_credit_pivot = data.pivot_table(index = 'children_category', columns = 'debt', values = 'education_id',\\\n",
    "                                             aggfunc = 'count')\n",
    "children_and_credit_pivot[0] = children_and_credit_pivot[0] + children_and_credit_pivot[1]\n",
    "children_and_credit_pivot = children_and_credit_pivot.rename(columns = {1:'debt',0:'total_people'})\n",
    "children_and_credit_pivot['ratio %'] = children_and_credit_pivot['debt']/children_and_credit_pivot['total_people'] * 100\n",
    "children_and_credit_pivot['ratio %'] = round(children_and_credit_pivot['ratio %'],1)\n",
    "\n",
    "children_and_credit_pivot.sort_values(by = 'ratio %',ascending = False)"
   ]
  },
  {
   "cell_type": "markdown",
   "id": "ab10dbfd",
   "metadata": {},
   "source": [
    "**Вывод**\n",
    "* Больше всего должников в группе людей, у которых есть дети от 1 до 2. \n",
    "* Меньше всего должников в группе людей, у которых нет детей.\n",
    "* Увеличение доли людей, которые не возвращают кредит в срок, не прямопорпорционально увеличению количества детей в семье."
   ]
  },
  {
   "cell_type": "markdown",
   "id": "a0cdd2bd",
   "metadata": {},
   "source": [
    "### 2.2 Определение, есть ли зависимость между семейным положением и возвратом кредита в срок"
   ]
  },
  {
   "cell_type": "code",
   "execution_count": 34,
   "id": "b85eb04e",
   "metadata": {},
   "outputs": [
    {
     "data": {
      "text/html": [
       "<div>\n",
       "<style scoped>\n",
       "    .dataframe tbody tr th:only-of-type {\n",
       "        vertical-align: middle;\n",
       "    }\n",
       "\n",
       "    .dataframe tbody tr th {\n",
       "        vertical-align: top;\n",
       "    }\n",
       "\n",
       "    .dataframe thead th {\n",
       "        text-align: right;\n",
       "    }\n",
       "</style>\n",
       "<table border=\"1\" class=\"dataframe\">\n",
       "  <thead>\n",
       "    <tr style=\"text-align: right;\">\n",
       "      <th>debt</th>\n",
       "      <th>total_people</th>\n",
       "      <th>debt</th>\n",
       "      <th>ratio %</th>\n",
       "    </tr>\n",
       "    <tr>\n",
       "      <th>family_status</th>\n",
       "      <th></th>\n",
       "      <th></th>\n",
       "      <th></th>\n",
       "    </tr>\n",
       "  </thead>\n",
       "  <tbody>\n",
       "    <tr>\n",
       "      <th>не женат / не замужем</th>\n",
       "      <td>2796</td>\n",
       "      <td>273</td>\n",
       "      <td>9.8</td>\n",
       "    </tr>\n",
       "    <tr>\n",
       "      <th>гражданский брак</th>\n",
       "      <td>4146</td>\n",
       "      <td>385</td>\n",
       "      <td>9.3</td>\n",
       "    </tr>\n",
       "    <tr>\n",
       "      <th>женат / замужем</th>\n",
       "      <td>12266</td>\n",
       "      <td>927</td>\n",
       "      <td>7.6</td>\n",
       "    </tr>\n",
       "    <tr>\n",
       "      <th>в разводе</th>\n",
       "      <td>1189</td>\n",
       "      <td>84</td>\n",
       "      <td>7.1</td>\n",
       "    </tr>\n",
       "    <tr>\n",
       "      <th>вдовец / вдова</th>\n",
       "      <td>951</td>\n",
       "      <td>63</td>\n",
       "      <td>6.6</td>\n",
       "    </tr>\n",
       "  </tbody>\n",
       "</table>\n",
       "</div>"
      ],
      "text/plain": [
       "debt                   total_people  debt  ratio %\n",
       "family_status                                     \n",
       "не женат / не замужем          2796   273      9.8\n",
       "гражданский брак               4146   385      9.3\n",
       "женат / замужем               12266   927      7.6\n",
       "в разводе                      1189    84      7.1\n",
       "вдовец / вдова                  951    63      6.6"
      ]
     },
     "execution_count": 34,
     "metadata": {},
     "output_type": "execute_result"
    }
   ],
   "source": [
    "family_and_credit_pivot = data.pivot_table(index = 'family_status', columns = 'debt', values = 'education_id', \\\n",
    "                                           aggfunc = 'count')\n",
    "family_and_credit_pivot[0] = family_and_credit_pivot[0] + family_and_credit_pivot[1]\n",
    "family_and_credit_pivot = family_and_credit_pivot.rename(columns = {1:'debt',0:'total_people'})\n",
    "family_and_credit_pivot['ratio %'] = family_and_credit_pivot['debt']/family_and_credit_pivot['total_people'] * 100\n",
    "family_and_credit_pivot['ratio %'] = round(family_and_credit_pivot['ratio %'],1)\n",
    "\n",
    "family_and_credit_pivot.sort_values(by = 'ratio %',ascending = False)"
   ]
  },
  {
   "cell_type": "markdown",
   "id": "0100b2c7",
   "metadata": {},
   "source": [
    "**Вывод:** \n",
    "* Больше всего должников в группе людей, которые не женаты.\n",
    "* Меньше всего должников в группе людей, которые овдовели."
   ]
  },
  {
   "cell_type": "markdown",
   "id": "eb9de575",
   "metadata": {},
   "source": [
    "### 2.3 Определение, есть ли зависимость между уровнем дохода и возвратом кредита в срок"
   ]
  },
  {
   "cell_type": "code",
   "execution_count": 35,
   "id": "df65a7ac",
   "metadata": {},
   "outputs": [
    {
     "data": {
      "text/html": [
       "<div>\n",
       "<style scoped>\n",
       "    .dataframe tbody tr th:only-of-type {\n",
       "        vertical-align: middle;\n",
       "    }\n",
       "\n",
       "    .dataframe tbody tr th {\n",
       "        vertical-align: top;\n",
       "    }\n",
       "\n",
       "    .dataframe thead th {\n",
       "        text-align: right;\n",
       "    }\n",
       "</style>\n",
       "<table border=\"1\" class=\"dataframe\">\n",
       "  <thead>\n",
       "    <tr style=\"text-align: right;\">\n",
       "      <th>debt</th>\n",
       "      <th>total_people</th>\n",
       "      <th>debt</th>\n",
       "      <th>ratio %</th>\n",
       "    </tr>\n",
       "    <tr>\n",
       "      <th>total_income_category</th>\n",
       "      <th></th>\n",
       "      <th></th>\n",
       "      <th></th>\n",
       "    </tr>\n",
       "  </thead>\n",
       "  <tbody>\n",
       "    <tr>\n",
       "      <th>E</th>\n",
       "      <td>22</td>\n",
       "      <td>2</td>\n",
       "      <td>9.1</td>\n",
       "    </tr>\n",
       "    <tr>\n",
       "      <th>C</th>\n",
       "      <td>15938</td>\n",
       "      <td>1353</td>\n",
       "      <td>8.5</td>\n",
       "    </tr>\n",
       "    <tr>\n",
       "      <th>A</th>\n",
       "      <td>25</td>\n",
       "      <td>2</td>\n",
       "      <td>8.0</td>\n",
       "    </tr>\n",
       "    <tr>\n",
       "      <th>B</th>\n",
       "      <td>5014</td>\n",
       "      <td>354</td>\n",
       "      <td>7.1</td>\n",
       "    </tr>\n",
       "    <tr>\n",
       "      <th>D</th>\n",
       "      <td>349</td>\n",
       "      <td>21</td>\n",
       "      <td>6.0</td>\n",
       "    </tr>\n",
       "  </tbody>\n",
       "</table>\n",
       "</div>"
      ],
      "text/plain": [
       "debt                   total_people  debt  ratio %\n",
       "total_income_category                             \n",
       "E                                22     2      9.1\n",
       "C                             15938  1353      8.5\n",
       "A                                25     2      8.0\n",
       "B                              5014   354      7.1\n",
       "D                               349    21      6.0"
      ]
     },
     "execution_count": 35,
     "metadata": {},
     "output_type": "execute_result"
    }
   ],
   "source": [
    "income_and_credit_pivot = data.pivot_table(index = 'total_income_category', columns = 'debt', values = 'education_id', \\\n",
    "                                          aggfunc = 'count')\n",
    "income_and_credit_pivot[0] = income_and_credit_pivot[0] + income_and_credit_pivot[1]\n",
    "income_and_credit_pivot = income_and_credit_pivot.rename(columns = {1:'debt',0:'total_people'})\n",
    "income_and_credit_pivot['ratio %'] = income_and_credit_pivot['debt']/income_and_credit_pivot['total_people'] * 100\n",
    "income_and_credit_pivot['ratio %'] = round(income_and_credit_pivot['ratio %'],1)\n",
    "\n",
    "income_and_credit_pivot.sort_values(by = 'ratio %',ascending = False)"
   ]
  },
  {
   "cell_type": "markdown",
   "id": "0143a31a",
   "metadata": {},
   "source": [
    "**Вывод:** \n",
    "* Больше всего должников в группе людей, у которых доход до 30 000 в мес.\n",
    "* Меньше всего должников в группе людей, у которых доход от 50 001 до 200 000 в мес.\n",
    "* Увеличение доли людей, которые не возвращают кредит в срок, не прямопропорционально уменьшению дохода у людей."
   ]
  },
  {
   "cell_type": "markdown",
   "id": "c7ff0c15",
   "metadata": {},
   "source": [
    "### 2.4 Определение, есть ли зависимость между целями кредита и возвратом кредита в срок"
   ]
  },
  {
   "cell_type": "code",
   "execution_count": 36,
   "id": "d32e2acc",
   "metadata": {},
   "outputs": [
    {
     "data": {
      "text/html": [
       "<div>\n",
       "<style scoped>\n",
       "    .dataframe tbody tr th:only-of-type {\n",
       "        vertical-align: middle;\n",
       "    }\n",
       "\n",
       "    .dataframe tbody tr th {\n",
       "        vertical-align: top;\n",
       "    }\n",
       "\n",
       "    .dataframe thead th {\n",
       "        text-align: right;\n",
       "    }\n",
       "</style>\n",
       "<table border=\"1\" class=\"dataframe\">\n",
       "  <thead>\n",
       "    <tr style=\"text-align: right;\">\n",
       "      <th>debt</th>\n",
       "      <th>total_people</th>\n",
       "      <th>debt</th>\n",
       "      <th>ratio_debt %</th>\n",
       "    </tr>\n",
       "    <tr>\n",
       "      <th>purpose_category</th>\n",
       "      <th></th>\n",
       "      <th></th>\n",
       "      <th></th>\n",
       "    </tr>\n",
       "  </thead>\n",
       "  <tbody>\n",
       "    <tr>\n",
       "      <th>операции с автомобилем</th>\n",
       "      <td>4281</td>\n",
       "      <td>400</td>\n",
       "      <td>9.34</td>\n",
       "    </tr>\n",
       "    <tr>\n",
       "      <th>получение образования</th>\n",
       "      <td>3989</td>\n",
       "      <td>369</td>\n",
       "      <td>9.25</td>\n",
       "    </tr>\n",
       "    <tr>\n",
       "      <th>проведение свадьбы</th>\n",
       "      <td>2324</td>\n",
       "      <td>183</td>\n",
       "      <td>7.87</td>\n",
       "    </tr>\n",
       "    <tr>\n",
       "      <th>операции с недвижимостью</th>\n",
       "      <td>10754</td>\n",
       "      <td>780</td>\n",
       "      <td>7.25</td>\n",
       "    </tr>\n",
       "  </tbody>\n",
       "</table>\n",
       "</div>"
      ],
      "text/plain": [
       "debt                      total_people  debt  ratio_debt %\n",
       "purpose_category                                          \n",
       "операции с автомобилем            4281   400          9.34\n",
       "получение образования             3989   369          9.25\n",
       "проведение свадьбы                2324   183          7.87\n",
       "операции с недвижимостью         10754   780          7.25"
      ]
     },
     "execution_count": 36,
     "metadata": {},
     "output_type": "execute_result"
    }
   ],
   "source": [
    "purpose_and_credit_pivot = data.pivot_table(index = 'purpose_category', columns = 'debt', values = 'education_id', \\\n",
    "                                            aggfunc = 'count')\n",
    "purpose_and_credit_pivot[0] = purpose_and_credit_pivot[0] + purpose_and_credit_pivot[1]\n",
    "purpose_and_credit_pivot = purpose_and_credit_pivot.rename(columns = {1:'debt',0:'total_people'})\n",
    "purpose_and_credit_pivot['ratio_debt %'] = purpose_and_credit_pivot['debt']/purpose_and_credit_pivot['total_people'] * 100\n",
    "purpose_and_credit_pivot['ratio_debt %'] = round(purpose_and_credit_pivot['ratio_debt %'],2)\n",
    "\n",
    "purpose_and_credit_pivot.sort_values(by = 'ratio_debt %',ascending = False)"
   ]
  },
  {
   "cell_type": "markdown",
   "id": "2eff0dd0",
   "metadata": {},
   "source": [
    "**Вывод:** \n",
    "* Больше всего должников среди тех, чья цель кредита - покупка автомобиля.\n",
    "* Меньше всего должников среди тех, чья цель кредита - покупка недвижимости."
   ]
  },
  {
   "cell_type": "markdown",
   "id": "44681b79",
   "metadata": {},
   "source": [
    "## 3. Общие выводы и рекомендации для выдачи кредита"
   ]
  },
  {
   "cell_type": "markdown",
   "id": "17315ac3",
   "metadata": {},
   "source": [
    "### 3.1 Общие выводы"
   ]
  },
  {
   "cell_type": "markdown",
   "id": "81d3ce7f",
   "metadata": {},
   "source": [
    "* Увеличение доли людей, которые не возвращают кредит в срок, не прямопропорционально уменьшению дохода у людей. Однако в срок отдают кредит больше те люди, которые не имеют детей.\n",
    "* Увеличение доли людей, которые не возвращают кредит в срок, не прямопорпорционально увеличению количества детей в семье. Однако задерживаются с оплатой те люди, у которых доход не большой (меньше 30 тыс. в мес.).\n",
    "* Рискованне всего давать кредит на покупку автомобиля, т.к. должников в этой категории больше.\n",
    "* Рискованее всего давать кредит нежанатым людям, т.к. должников в этой категории больше."
   ]
  },
  {
   "cell_type": "markdown",
   "id": "cb5625ea",
   "metadata": {},
   "source": [
    "### 3.2 Рекомендации для выдачи кредита"
   ]
  },
  {
   "cell_type": "markdown",
   "id": "b063f792",
   "metadata": {},
   "source": [
    "Первыми в очереди на получение кредита должны стать те люди, у которых:\n",
    "\n",
    "- нет детей,\n",
    "- которые овдовели,\n",
    "- которые имеют доход от 50 тыс. до 200 тыс. в мес.,\n",
    "- которые берут кредит с целью покупки недвижимости."
   ]
  }
 ],
 "metadata": {
  "kernelspec": {
   "display_name": "Python 3 (ipykernel)",
   "language": "python",
   "name": "python3"
  },
  "language_info": {
   "codemirror_mode": {
    "name": "ipython",
    "version": 3
   },
   "file_extension": ".py",
   "mimetype": "text/x-python",
   "name": "python",
   "nbconvert_exporter": "python",
   "pygments_lexer": "ipython3",
   "version": "3.9.12"
  }
 },
 "nbformat": 4,
 "nbformat_minor": 5
}
